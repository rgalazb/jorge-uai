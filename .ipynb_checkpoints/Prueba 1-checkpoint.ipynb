{
 "cells": [
  {
   "cell_type": "code",
   "execution_count": 2,
   "metadata": {},
   "outputs": [],
   "source": [
    "# ejercicio 1\n",
    "# villarica v\n",
    "# antuco    A\n",
    "# Galletue  G\n",
    "# Icalma    I"
   ]
  },
  {
   "cell_type": "code",
   "execution_count": 7,
   "metadata": {},
   "outputs": [
    {
     "name": "stdout",
     "output_type": "stream",
     "text": [
      "Ingresa un número en formato #### (compuesto solo por numeros del 0 al 4), o 0 para salir: 1235\n",
      "Ingresa un número en formato #### (compuesto solo por numeros del 0 al 4), o 0 para salir: 1515\n",
      "Ingresa un número en formato #### (compuesto solo por numeros del 0 al 4), o 0 para salir: 1321\n",
      "Ingresa un número en formato #### (compuesto solo por numeros del 0 al 4), o 0 para salir: 0\n"
     ]
    }
   ],
   "source": [
    "# Jorge\n",
    "numero_de_personas_que_respondieron = 0\n",
    "suma = 0\n",
    "\n",
    "while True:\n",
    "    puntuacion_pizzas = input(\"Ingresa un número en formato #### (compuesto solo por numeros del 0 al 4), o 0 para salir: \")\n",
    "    numero_de_personas_que_respondieron += 1\n",
    "    # necesito una iteración doble ?\n",
    "    for i in puntuacion_pizzas: \n",
    "        if puntuacion_pizzas != \"0\":        \n",
    "            suma_1 = suma + int(i)\n",
    "            # mi idea era sumar todos los números en cada posicion \n",
    "            # respectivamente, y luego dividir cada uno por el numero de personas \n",
    "            # que respondieron, para asi saber la nota promedio que le dio n personas a cada pizza.\n",
    "    \n",
    "    if puntuacion_pizzas == \"0\":\n",
    "        numero_de_personas_que_respondieron = numero_de_personas_que_respondieron - 1\n",
    "        break\n"
   ]
  },
  {
   "cell_type": "code",
   "execution_count": 18,
   "metadata": {},
   "outputs": [
    {
     "name": "stdout",
     "output_type": "stream",
     "text": [
      "Ingresa un número en formato #### (compuesto solo por numeros del 0 al 4), o 0 para salir: 0\n"
     ]
    },
    {
     "ename": "ZeroDivisionError",
     "evalue": "division by zero",
     "output_type": "error",
     "traceback": [
      "\u001b[0;31m---------------------------------------------------------------------------\u001b[0m",
      "\u001b[0;31mZeroDivisionError\u001b[0m                         Traceback (most recent call last)",
      "\u001b[0;32m<ipython-input-18-25ba178642d1>\u001b[0m in \u001b[0;36m<module>\u001b[0;34m\u001b[0m\n\u001b[1;32m     22\u001b[0m     \u001b[0mprom_4\u001b[0m \u001b[0;34m+=\u001b[0m \u001b[0mint\u001b[0m\u001b[0;34m(\u001b[0m\u001b[0mpuntuacion_pizzas\u001b[0m\u001b[0;34m[\u001b[0m\u001b[0;36m3\u001b[0m\u001b[0;34m]\u001b[0m\u001b[0;34m)\u001b[0m\u001b[0;34m\u001b[0m\u001b[0;34m\u001b[0m\u001b[0m\n\u001b[1;32m     23\u001b[0m \u001b[0;34m\u001b[0m\u001b[0m\n\u001b[0;32m---> 24\u001b[0;31m \u001b[0mnota_1\u001b[0m \u001b[0;34m=\u001b[0m \u001b[0mprom_1\u001b[0m \u001b[0;34m/\u001b[0m \u001b[0mnumero_de_personas_que_respondieron\u001b[0m\u001b[0;34m\u001b[0m\u001b[0;34m\u001b[0m\u001b[0m\n\u001b[0m\u001b[1;32m     25\u001b[0m \u001b[0mnota_2\u001b[0m \u001b[0;34m=\u001b[0m \u001b[0mprom_2\u001b[0m \u001b[0;34m/\u001b[0m \u001b[0mnumero_de_personas_que_respondieron\u001b[0m\u001b[0;34m\u001b[0m\u001b[0;34m\u001b[0m\u001b[0m\n\u001b[1;32m     26\u001b[0m \u001b[0mnota_3\u001b[0m \u001b[0;34m=\u001b[0m \u001b[0mprom_3\u001b[0m \u001b[0;34m/\u001b[0m \u001b[0mnumero_de_personas_que_respondieron\u001b[0m\u001b[0;34m\u001b[0m\u001b[0;34m\u001b[0m\u001b[0m\n",
      "\u001b[0;31mZeroDivisionError\u001b[0m: division by zero"
     ]
    }
   ],
   "source": [
    "# PIPE\n",
    "numero_de_personas_que_respondieron = 0\n",
    "suma = 0\n",
    "prom_1 = 0\n",
    "prom_2 = 0\n",
    "prom_3 = 0\n",
    "prom_4 = 0\n",
    "\n",
    "# semaforo\n",
    "# ROJO no funciona\n",
    "# AMARILLO funciona pero está feo\n",
    "# VERDE funciona y esta bonito.\n",
    "while True:\n",
    "    puntuacion_pizzas = input(\"Ingresa un número en formato #### (compuesto solo por numeros del 0 al 4), o 0 para salir: \")\n",
    "    numero_de_personas_que_respondieron += 1\n",
    "\n",
    "    if puntuacion_pizzas == \"0\":\n",
    "        numero_de_personas_que_respondieron = numero_de_personas_que_respondieron - 1\n",
    "        break\n",
    "        \n",
    "    prom_1 += int(puntuacion_pizzas[0])\n",
    "    prom_2 += int(puntuacion_pizzas[1])\n",
    "    prom_3 += int(puntuacion_pizzas[2])\n",
    "    prom_4 += int(puntuacion_pizzas[3])\n",
    "\n",
    "nota_1 = prom_1 / numero_de_personas_que_respondieron\n",
    "nota_2 = prom_2 / numero_de_personas_que_respondieron\n",
    "nota_3 = prom_3 / numero_de_personas_que_respondieron\n",
    "nota_4 = prom_4 / numero_de_personas_que_respondieron\n",
    "print(f\"Nota promedio del producto V: {nota_1}\")\n",
    "print(f\"Nota promedio del producto A: {nota_2}\")\n",
    "print(f\"Nota promedio del producto I: {nota_3}\")\n",
    "print(f\"Nota promedio del producto G: {nota_4}\")\n",
    "\n"
   ]
  },
  {
   "cell_type": "code",
   "execution_count": 21,
   "metadata": {},
   "outputs": [
    {
     "name": "stdout",
     "output_type": "stream",
     "text": [
      "Ingrese el nombre del candidato a préstamo: 0\n",
      "¿Se comprobó la dirección? (SI/NO): 0\n",
      "¿Se comprobó la identidad? (SI/NO): 0\n",
      "¿Monto prestamo es menor que sueldo mes? (SI/NO): 0\n",
      "Propósito del préstamo: Comprar casa (1) Pago impuestos (2) Otro (3): 0\n",
      "¿Es propietario de casa? (SI/NO): 0\n"
     ]
    }
   ],
   "source": [
    " # EJERCICIO 2\n",
    "nombre_candidato_prestamo = input(\"Ingrese el nombre del candidato a préstamo: \")\n",
    "\n",
    "direccion = input(\"¿Se comprobó la dirección? (SI/NO): \")\n",
    "\n",
    "identidad = input(\"¿Se comprobó la identidad? (SI/NO): \")\n",
    "\n",
    "monto_prestamo_menor = input(\"¿Monto prestamo es menor que sueldo mes? (SI/NO): \")\n",
    "monto_prestamo_mayorigual = \"\"\n",
    "if monto_prestamo_menor == \"NO\":\n",
    "    monto_prestamo_mayorigual = input(\"¿Monto préstamo es mayor o igual que sueldo mes? (SI/NO): \")\n",
    "\n",
    "proposito_prestamo = input(\"Propósito del préstamo: Comprar casa (1) Pago impuestos (2) Otro (3): \")\n",
    "condicion_propietario = input(\"¿Es propietario de casa? (SI/NO): \")\n",
    "\n",
    "\n",
    "if direccion == \"NO\" :\n",
    "    print(f\"{nombre_candidato_prestamo}, hemos rechazado tu solicitud de préstamo por dirección\")\n",
    "    \n",
    "elif identidad == \"NO\":\n",
    "    print(f\"{nombre_candidato_prestamo}, hemos rechazado tu solicitud de préstamo por identidad\")\n",
    "\n",
    "elif direccion == \"SI\" and identidad == \"SI\" and monto_prestamo_menor == \"SI\":\n",
    "    print(f\"{nombre_candidato_prestamo}, hemos aprobado inmediatamente tu préstamo\")\n",
    "\n",
    "elif direccion == \"SI\" and identidad == \"SI\" and proposito_prestamo == \"1\" and condicion_propietario == \"SI\":\n",
    "    print(f\"{nombre_candidato_prestamo}, hemos aprobado inmediatamente tu préstamo\")\n",
    "\n",
    "elif direccion == \"SI\" and identidad == \"SI\" and monto_prestamo_mayorigual == \"SI\" and proposito_prestamo == \"2\":\n",
    "    print(f\"{nombre_candidato_prestamo}, hemos aprobado inmediatamente tu préstamo\")\n",
    "\n",
    "elif direccion == \"SI\" and identidad == \"SI\" and monto_prestamo_mayorigual == \"SI\" and proposito_prestamo == \"3\":\n",
    "    print(f\"{nombre_candidato_prestamo}, revisaremos tus antecedentes manualmente y se te indicará si se aprueba o no tu préstamo\")"
   ]
  },
  {
   "cell_type": "code",
   "execution_count": 26,
   "metadata": {},
   "outputs": [
    {
     "name": "stdout",
     "output_type": "stream",
     "text": [
      "¿Se comprobó la dirección? (SI/NO): TASD\n",
      "H\n"
     ]
    }
   ],
   "source": [
    "direccion = input(\"¿Se comprobó la dirección? (SI/NO): \")\n",
    "\n",
    "if direccion == 'M':\n",
    "    a = direccion\n",
    "elif direccion == 'H':\n",
    "    a = direccion\n",
    "print(a)"
   ]
  },
  {
   "cell_type": "code",
   "execution_count": null,
   "metadata": {},
   "outputs": [],
   "source": []
  },
  {
   "cell_type": "code",
   "execution_count": null,
   "metadata": {},
   "outputs": [],
   "source": []
  },
  {
   "cell_type": "code",
   "execution_count": null,
   "metadata": {},
   "outputs": [],
   "source": [
    "1/2"
   ]
  },
  {
   "cell_type": "code",
   "execution_count": null,
   "metadata": {},
   "outputs": [],
   "source": [
    " "
   ]
  }
 ],
 "metadata": {
  "kernelspec": {
   "display_name": "Python 3",
   "language": "python",
   "name": "python3"
  },
  "language_info": {
   "codemirror_mode": {
    "name": "ipython",
    "version": 3
   },
   "file_extension": ".py",
   "mimetype": "text/x-python",
   "name": "python",
   "nbconvert_exporter": "python",
   "pygments_lexer": "ipython3",
   "version": "3.8.3"
  }
 },
 "nbformat": 4,
 "nbformat_minor": 4
}
