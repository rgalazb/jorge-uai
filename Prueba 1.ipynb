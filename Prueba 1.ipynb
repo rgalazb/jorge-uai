{
 "cells": [
  {
   "cell_type": "code",
   "execution_count": 2,
   "metadata": {},
   "outputs": [],
   "source": [
    "# ejercicio 1\n",
    "# villarica v\n",
    "# antuco    A\n",
    "# Galletue  G\n",
    "# Icalma    I"
   ]
  },
  {
   "cell_type": "code",
   "execution_count": 7,
   "metadata": {},
   "outputs": [
    {
     "name": "stdout",
     "output_type": "stream",
     "text": [
      "Ingresa un número en formato #### (compuesto solo por numeros del 0 al 4), o 0 para salir: 1235\n",
      "Ingresa un número en formato #### (compuesto solo por numeros del 0 al 4), o 0 para salir: 1515\n",
      "Ingresa un número en formato #### (compuesto solo por numeros del 0 al 4), o 0 para salir: 1321\n",
      "Ingresa un número en formato #### (compuesto solo por numeros del 0 al 4), o 0 para salir: 0\n"
     ]
    }
   ],
   "source": [
    "# Jorge\n",
    "numero_de_personas_que_respondieron = 0\n",
    "suma = 0\n",
    "\n",
    "while True:\n",
    "    puntuacion_pizzas = input(\"Ingresa un número en formato #### (compuesto solo por numeros del 0 al 4), o 0 para salir: \")\n",
    "    numero_de_personas_que_respondieron += 1\n",
    "    # necesito una iteración doble ?\n",
    "    for i in puntuacion_pizzas: \n",
    "        if puntuacion_pizzas != \"0\":        \n",
    "            suma_1 = suma + int(i)\n",
    "            # mi idea era sumar todos los números en cada posicion \n",
    "            # respectivamente, y luego dividir cada uno por el numero de personas \n",
    "            # que respondieron, para asi saber la nota promedio que le dio n personas a cada pizza.\n",
    "    \n",
    "    if puntuacion_pizzas == \"0\":\n",
    "        numero_de_personas_que_respondieron = numero_de_personas_que_respondieron - 1\n",
    "        break\n"
   ]
  },
  {
   "cell_type": "code",
   "execution_count": 18,
   "metadata": {},
   "outputs": [
    {
     "name": "stdout",
     "output_type": "stream",
     "text": [
      "Ingresa un número en formato #### (compuesto solo por numeros del 0 al 4), o 0 para salir: 0\n"
     ]
    },
    {
     "ename": "ZeroDivisionError",
     "evalue": "division by zero",
     "output_type": "error",
     "traceback": [
      "\u001b[0;31m---------------------------------------------------------------------------\u001b[0m",
      "\u001b[0;31mZeroDivisionError\u001b[0m                         Traceback (most recent call last)",
      "\u001b[0;32m<ipython-input-18-25ba178642d1>\u001b[0m in \u001b[0;36m<module>\u001b[0;34m\u001b[0m\n\u001b[1;32m     22\u001b[0m     \u001b[0mprom_4\u001b[0m \u001b[0;34m+=\u001b[0m \u001b[0mint\u001b[0m\u001b[0;34m(\u001b[0m\u001b[0mpuntuacion_pizzas\u001b[0m\u001b[0;34m[\u001b[0m\u001b[0;36m3\u001b[0m\u001b[0;34m]\u001b[0m\u001b[0;34m)\u001b[0m\u001b[0;34m\u001b[0m\u001b[0;34m\u001b[0m\u001b[0m\n\u001b[1;32m     23\u001b[0m \u001b[0;34m\u001b[0m\u001b[0m\n\u001b[0;32m---> 24\u001b[0;31m \u001b[0mnota_1\u001b[0m \u001b[0;34m=\u001b[0m \u001b[0mprom_1\u001b[0m \u001b[0;34m/\u001b[0m \u001b[0mnumero_de_personas_que_respondieron\u001b[0m\u001b[0;34m\u001b[0m\u001b[0;34m\u001b[0m\u001b[0m\n\u001b[0m\u001b[1;32m     25\u001b[0m \u001b[0mnota_2\u001b[0m \u001b[0;34m=\u001b[0m \u001b[0mprom_2\u001b[0m \u001b[0;34m/\u001b[0m \u001b[0mnumero_de_personas_que_respondieron\u001b[0m\u001b[0;34m\u001b[0m\u001b[0;34m\u001b[0m\u001b[0m\n\u001b[1;32m     26\u001b[0m \u001b[0mnota_3\u001b[0m \u001b[0;34m=\u001b[0m \u001b[0mprom_3\u001b[0m \u001b[0;34m/\u001b[0m \u001b[0mnumero_de_personas_que_respondieron\u001b[0m\u001b[0;34m\u001b[0m\u001b[0;34m\u001b[0m\u001b[0m\n",
      "\u001b[0;31mZeroDivisionError\u001b[0m: division by zero"
     ]
    }
   ],
   "source": [
    "# PIPE\n",
    "numero_de_personas_que_respondieron = 0\n",
    "suma = 0\n",
    "prom_1 = 0\n",
    "prom_2 = 0\n",
    "prom_3 = 0\n",
    "prom_4 = 0\n",
    "\n",
    "# semaforo\n",
    "# ROJO no funciona\n",
    "# AMARILLO funciona pero está feo\n",
    "# VERDE funciona y esta bonito.\n",
    "while True:\n",
    "    puntuacion_pizzas = input(\"Ingresa un número en formato #### (compuesto solo por numeros del 0 al 4), o 0 para salir: \")\n",
    "    numero_de_personas_que_respondieron += 1\n",
    "\n",
    "    if puntuacion_pizzas == \"0\":\n",
    "        numero_de_personas_que_respondieron = numero_de_personas_que_respondieron - 1\n",
    "        break\n",
    "        \n",
    "    prom_1 += int(puntuacion_pizzas[0])\n",
    "    prom_2 += int(puntuacion_pizzas[1])\n",
    "    prom_3 += int(puntuacion_pizzas[2])\n",
    "    prom_4 += int(puntuacion_pizzas[3])\n",
    "\n",
    "nota_1 = prom_1 / numero_de_personas_que_respondieron\n",
    "nota_2 = prom_2 / numero_de_personas_que_respondieron\n",
    "nota_3 = prom_3 / numero_de_personas_que_respondieron\n",
    "nota_4 = prom_4 / numero_de_personas_que_respondieron\n",
    "print(f\"Nota promedio del producto V: {nota_1}\")\n",
    "print(f\"Nota promedio del producto A: {nota_2}\")\n",
    "print(f\"Nota promedio del producto I: {nota_3}\")\n",
    "print(f\"Nota promedio del producto G: {nota_4}\")\n",
    "\n"
   ]
  },
  {
   "cell_type": "code",
   "execution_count": 21,
   "metadata": {},
   "outputs": [
    {
     "name": "stdout",
     "output_type": "stream",
     "text": [
      "Ingrese el nombre del candidato a préstamo: 0\n",
      "¿Se comprobó la dirección? (SI/NO): 0\n",
      "¿Se comprobó la identidad? (SI/NO): 0\n",
      "¿Monto prestamo es menor que sueldo mes? (SI/NO): 0\n",
      "Propósito del préstamo: Comprar casa (1) Pago impuestos (2) Otro (3): 0\n",
      "¿Es propietario de casa? (SI/NO): 0\n"
     ]
    }
   ],
   "source": [
    " # EJERCICIO 2\n",
    "nombre_candidato_prestamo = input(\"Ingrese el nombre del candidato a préstamo: \")\n",
    "\n",
    "direccion = input(\"¿Se comprobó la dirección? (SI/NO): \")\n",
    "\n",
    "identidad = input(\"¿Se comprobó la identidad? (SI/NO): \")\n",
    "\n",
    "monto_prestamo_menor = input(\"¿Monto prestamo es menor que sueldo mes? (SI/NO): \")\n",
    "monto_prestamo_mayorigual = \"\"\n",
    "if monto_prestamo_menor == \"NO\":\n",
    "    monto_prestamo_mayorigual = input(\"¿Monto préstamo es mayor o igual que sueldo mes? (SI/NO): \")\n",
    "\n",
    "proposito_prestamo = input(\"Propósito del préstamo: Comprar casa (1) Pago impuestos (2) Otro (3): \")\n",
    "condicion_propietario = input(\"¿Es propietario de casa? (SI/NO): \")\n",
    "\n",
    "\n",
    "if direccion == \"NO\" :\n",
    "    print(f\"{nombre_candidato_prestamo}, hemos rechazado tu solicitud de préstamo por dirección\")\n",
    "    \n",
    "elif identidad == \"NO\":\n",
    "    print(f\"{nombre_candidato_prestamo}, hemos rechazado tu solicitud de préstamo por identidad\")\n",
    "\n",
    "elif direccion == \"SI\" and identidad == \"SI\" and monto_prestamo_menor == \"SI\":\n",
    "    print(f\"{nombre_candidato_prestamo}, hemos aprobado inmediatamente tu préstamo\")\n",
    "\n",
    "elif direccion == \"SI\" and identidad == \"SI\" and proposito_prestamo == \"1\" and condicion_propietario == \"SI\":\n",
    "    print(f\"{nombre_candidato_prestamo}, hemos aprobado inmediatamente tu préstamo\")\n",
    "\n",
    "elif direccion == \"SI\" and identidad == \"SI\" and monto_prestamo_mayorigual == \"SI\" and proposito_prestamo == \"2\":\n",
    "    print(f\"{nombre_candidato_prestamo}, hemos aprobado inmediatamente tu préstamo\")\n",
    "\n",
    "elif direccion == \"SI\" and identidad == \"SI\" and monto_prestamo_mayorigual == \"SI\" and proposito_prestamo == \"3\":\n",
    "    print(f\"{nombre_candidato_prestamo}, revisaremos tus antecedentes manualmente y se te indicará si se aprueba o no tu préstamo\")"
   ]
  },
  {
   "cell_type": "code",
   "execution_count": 31,
   "metadata": {},
   "outputs": [
    {
     "name": "stdout",
     "output_type": "stream",
     "text": [
      "¿Se comprobó la dirección? (SI/NO): ASdasd\n"
     ]
    },
    {
     "ename": "NameError",
     "evalue": "name 'tt' is not defined",
     "output_type": "error",
     "traceback": [
      "\u001b[0;31m---------------------------------------------------------------------------\u001b[0m",
      "\u001b[0;31mNameError\u001b[0m                                 Traceback (most recent call last)",
      "\u001b[0;32m<ipython-input-31-208bcc6303cb>\u001b[0m in \u001b[0;36m<module>\u001b[0;34m\u001b[0m\n\u001b[1;32m      5\u001b[0m \u001b[0;32melif\u001b[0m \u001b[0mdireccion\u001b[0m \u001b[0;34m==\u001b[0m \u001b[0;34m'H'\u001b[0m\u001b[0;34m:\u001b[0m\u001b[0;34m\u001b[0m\u001b[0;34m\u001b[0m\u001b[0m\n\u001b[1;32m      6\u001b[0m     \u001b[0mtt\u001b[0m \u001b[0;34m=\u001b[0m \u001b[0mdireccion\u001b[0m\u001b[0;34m\u001b[0m\u001b[0;34m\u001b[0m\u001b[0m\n\u001b[0;32m----> 7\u001b[0;31m \u001b[0mprint\u001b[0m\u001b[0;34m(\u001b[0m\u001b[0mtt\u001b[0m\u001b[0;34m)\u001b[0m\u001b[0;34m\u001b[0m\u001b[0;34m\u001b[0m\u001b[0m\n\u001b[0m",
      "\u001b[0;31mNameError\u001b[0m: name 'tt' is not defined"
     ]
    }
   ],
   "source": [
    "direccion = input(\"¿Se comprobó la dirección? (SI/NO): \")\n",
    "\n",
    "if direccion == 'M':\n",
    "    tt = direccion\n",
    "elif direccion == 'H':\n",
    "    tt = direccion\n",
    "print(tt)"
   ]
  },
  {
   "cell_type": "code",
   "execution_count": null,
   "metadata": {},
   "outputs": [
    {
     "name": "stdout",
     "output_type": "stream",
     "text": [
      "Ingresa tu nombre: pipe\n",
      "Ingrese su sexo H/M o escriba Salir para finalizar: H\n",
      "Ingrese su peso en Kg: 90\n",
      "Ingrese su altura en cm: 173\n",
      "Ingrese su edad en años: 29\n",
      "Según la siguiente tabla uested hace: \n",
      "a) Poco o nada de ejercicio\n",
      "b) Ejercicio ligero\n",
      "c) Ejercicio moderado\n",
      "d) Soy deportista\n",
      "e) Soy atleta\n",
      "¿Alternativa a, b, c, d, e?: a\n",
      "pipe, tu TMB es 2361.9\n",
      "a) Desea conocer como está su alimentación? b) Salir del programa\n",
      "¿Qué opción desea?: a\n",
      "¿Cuántos hidratos de carbono consume al día?:2000\n",
      "¿Cuántos gramos de proteína consuma al día?: 120\n",
      "¿Cuántos gramos de grasa consume al día?: 120\n",
      "Usted consume más calorias de las que quema diariamente\n"
     ]
    }
   ],
   "source": [
    "# EJERCICIO 3\n",
    "nombre = input(\"Ingresa tu nombre: \")\n",
    "\n",
    "\n",
    "genero = input(\"Ingrese su sexo H/M o escriba Salir para finalizar: \")\n",
    "if genero != \"Salir\":\n",
    "    peso = float(input(\"Ingrese su peso en Kg: \"))\n",
    "    altura = float(input(\"Ingrese su altura en cm: \"))\n",
    "    edad = float(input(\"Ingrese su edad en años: \"))\n",
    "    print(\"Según la siguiente tabla uested hace: \")\n",
    "    print(\"a) Poco o nada de ejercicio\")\n",
    "    print(\"b) Ejercicio ligero\")\n",
    "    print(\"c) Ejercicio moderado\")\n",
    "    print(\"d) Soy deportista\")\n",
    "    print(\"e) Soy atleta\")\n",
    "    respuesta_tabla = input(\"¿Alternativa a, b, c, d, e?: \")\n",
    "\n",
    "\n",
    "    peso_tmb_h = peso*13.7\n",
    "    altura_tmb_h = altura*5\n",
    "    edad_tmb_h = edad*6.75\n",
    "\n",
    "    peso_tmb_m = peso*9.6\n",
    "    altura_tmb_m = altura*1.8\n",
    "    edad_tmb_m = edad*4.7\n",
    "\n",
    "\n",
    "    if genero == \"H\": \n",
    "        TMB = 66 + (peso_tmb_h) + (altura_tmb_h) - (edad_tmb_h)\n",
    "    elif genero == \"M\": \n",
    "        TMB = 655 + (peso_tmb_m) + (altura_tmb_m) - (edad_tmb_m)\n",
    "\n",
    "    if respuesta_tabla == \"a\": \n",
    "        TMB = TMB * 1.2 \n",
    "    elif respuesta_tabla == \"b\": \n",
    "        TMB = TMB * 1.375\n",
    "    elif respuesta_tabla == \"c\": \n",
    "        TMB = TMB * 1.55\n",
    "    elif respuesta_tabla == \"d\":\n",
    "        TMB = TMB * 1.72\n",
    "    elif respuesta_tabla == \"e\":\n",
    "        TMB = TMB * 1.9\n",
    "\n",
    "    print(f\"{nombre}, tu TMB es {TMB}\") \n",
    "    print(\"a) Desea conocer como está su alimentación? b) Salir del programa\")\n",
    "\n",
    "    respuesta_2 = input(\"¿Qué opción desea?: \")\n",
    "    while True: \n",
    "        if respuesta_2 == \"a\":\n",
    "            hidratos = float(input(\"¿Cuántos hidratos de carbono consume al día?:\" ))\n",
    "            gramos_proteinas = float(input(\"¿Cuántos gramos de proteína consuma al día?: \"))\n",
    "            gramos_grasa = float(input(\"¿Cuántos gramos de grasa consume al día?: \"))\n",
    "\n",
    "            resultado_hidratos = hidratos*4\n",
    "            resultado_proteinas = gramos_proteinas*4\n",
    "            resultado_grasa = gramos_grasa*9\n",
    "\n",
    "            calorias = resultado_grasa + resultado_hidratos + resultado_proteinas\n",
    "            if calorias < TMB:\n",
    "                print(\"Usted consume menos calorías de las que quema diariamente\") \n",
    "            elif calorias == TMB:\n",
    "                print(\"Usted consume las mismas calorías que quema diariamente\")\n",
    "            elif calorias > TMB:\n",
    "                print(\"Usted consume más calorias de las que quema diariamente\")\n",
    "        elif respuesta_2 == \"b\":\n",
    "            break\n",
    "        \n"
   ]
  },
  {
   "cell_type": "code",
   "execution_count": 39,
   "metadata": {},
   "outputs": [
    {
     "data": {
      "text/plain": [
       "float"
      ]
     },
     "execution_count": 39,
     "metadata": {},
     "output_type": "execute_result"
    }
   ],
   "source": [
    "IOOI ACA "
   ]
  },
  {
   "cell_type": "code",
   "execution_count": 34,
   "metadata": {},
   "outputs": [
    {
     "data": {
      "text/plain": [
       "865.0"
      ]
     },
     "execution_count": 34,
     "metadata": {},
     "output_type": "execute_result"
    }
   ],
   "source": [
    "altura_tmb_h"
   ]
  },
  {
   "cell_type": "code",
   "execution_count": 35,
   "metadata": {},
   "outputs": [
    {
     "data": {
      "text/plain": [
       "(174.0, 75)"
      ]
     },
     "execution_count": 35,
     "metadata": {},
     "output_type": "execute_result"
    }
   ],
   "source": [
    " edad_tmb_h"
   ]
  },
  {
   "cell_type": "code",
   "execution_count": null,
   "metadata": {},
   "outputs": [],
   "source": []
  }
 ],
 "metadata": {
  "kernelspec": {
   "display_name": "Python 3",
   "language": "python",
   "name": "python3"
  },
  "language_info": {
   "codemirror_mode": {
    "name": "ipython",
    "version": 3
   },
   "file_extension": ".py",
   "mimetype": "text/x-python",
   "name": "python",
   "nbconvert_exporter": "python",
   "pygments_lexer": "ipython3",
   "version": "3.8.3"
  }
 },
 "nbformat": 4,
 "nbformat_minor": 4
}
